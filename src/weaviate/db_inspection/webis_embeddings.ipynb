{
 "cells": [
  {
   "cell_type": "code",
   "execution_count": 1,
   "metadata": {},
   "outputs": [],
   "source": [
    "import requests\n",
    "import time\n"
   ]
  },
  {
   "cell_type": "code",
   "execution_count": 2,
   "metadata": {},
   "outputs": [],
   "source": [
    "url = \"https://llm.srv.webis.de/api/embeddings\"\n",
    "#below is a smaller embedding model\n",
    "#\"model\": \"all-minilm\",\n",
    "model_name = \"llama3-70b\"\n",
    "data1 = {\n",
    "        \"model\": model_name,\n",
    "        \"prompt\": 'These motions are generally characterized as low frequency and high amplitude. If these motions are not controlled, they can produce damage to the conductor and other elements in the transmission system. Aeolian vibration, on the other hand, is associated with smooth non-turbulent winds in the range of 2 MPH (miles per hour) to 15 MPH and can occur on a daily basis. Aeolian vibration is characterized by high frequency and low amplitude motion. This article describes the theory and mechanism of aeolian vibration, effects of aeolian vibration and different dampers used to reduce the harmfull effect of aeolian vibration. How Aeolian Vibration Occurs? Aeolian vibrations occur when a smooth wind flow of 2 to 15 mph (1 to 7 m/s) interacts a conductor. When this happens, air accelerates to go around the conductor and then separates behind it as seen in Figure below. Vortex formation and Aeolian Vibration occurring in a Transmission Line\\nThis motion creates a low-pressure region at the opposite side of the conductor and the air shows a tendency to move\\ninto this vacuum zone. This is the vortex shedding action that creates an alternating pressure imbalance causing the conductor to move up and down at a ninety-degree angle to the flow direction.', \n",
    "    }"
   ]
  },
  {
   "cell_type": "code",
   "execution_count": 4,
   "metadata": {},
   "outputs": [],
   "source": [
    "data2 = {\n",
    "        \"model\": model_name,\n",
    "        \"prompt\": 'As of my last knowledge update in January 2022, Unity.Netcode was not a standard networking solution provided by Unity. However, Unity has its high-level networking solution called Unity Multiplayer Services (UNET) and other popular third-party solutions like Photon, Mirror, and Forge Remastered. If Unity.Netcode has been introduced or updated after my last knowledge update, I recommend checking the official Unity documentation or the relevant community forums for the most up-to-date information. If you are using a different networking solution, here are general steps you can follow to distribute audio playing from a game object audio source over the network', \n",
    "    }"
   ]
  },
  {
   "cell_type": "code",
   "execution_count": 5,
   "metadata": {},
   "outputs": [],
   "source": [
    "data = [data1, data2]"
   ]
  },
  {
   "cell_type": "code",
   "execution_count": 6,
   "metadata": {},
   "outputs": [
    {
     "name": "stdout",
     "output_type": "stream",
     "text": [
      "Elapsed time: 0.07767438888549805 seconds\n",
      "Error: 404 - {\"error\":\"model 'llama3-70b' not found, try pulling it first\"}\n",
      "Avg time it takes with the  {'llama3-70b'}  is  {0.0038837194442749023}\n"
     ]
    }
   ],
   "source": [
    "total_time = 0\n",
    "iterations=20\n",
    "for i in range(1):\n",
    "    try:\n",
    "        x = i%2\n",
    "        request_data = data[x] \n",
    "        start_time = time.time()\n",
    "\n",
    "        response = requests.post(url, json=request_data)\n",
    "        \n",
    "        # End the timer\n",
    "        end_time = time.time()\n",
    "\n",
    "        # Calculate the elapsed time\n",
    "        elapsed_time = end_time - start_time\n",
    "        total_time+= elapsed_time\n",
    "\n",
    "        print(f\"Elapsed time: {elapsed_time} seconds\")\n",
    "\n",
    "        if response.status_code == 200:\n",
    "            response = response.json()\n",
    "            response_value = response.get('response')\n",
    "        else:\n",
    "            print(f\"Error: {response.status_code} - {response.text}\")\n",
    "    except Exception as e:\n",
    "        print(f\"Error: {e}\")\n",
    "\n",
    "avg = total_time/iterations\n",
    "print(\"Avg time it takes with the \", {model_name}, \" is \", {avg})\n"
   ]
  },
  {
   "cell_type": "code",
   "execution_count": 7,
   "metadata": {},
   "outputs": [
    {
     "data": {
      "text/plain": [
       "384"
      ]
     },
     "execution_count": 7,
     "metadata": {},
     "output_type": "execute_result"
    }
   ],
   "source": [
    "len(response[\"embedding\"])"
   ]
  },
  {
   "cell_type": "code",
   "execution_count": 12,
   "metadata": {},
   "outputs": [
    {
     "name": "stdout",
     "output_type": "stream",
     "text": [
      "Avg time it takes with the  {'llama3:70b'}  is  {0.0}\n"
     ]
    }
   ],
   "source": [
    "print(\"Avg time it takes with the \", {model_name},\" is \", {0/7}  )\n"
   ]
  },
  {
   "cell_type": "code",
   "execution_count": null,
   "metadata": {},
   "outputs": [],
   "source": []
  }
 ],
 "metadata": {
  "kernelspec": {
   "display_name": "venv",
   "language": "python",
   "name": "python3"
  },
  "language_info": {
   "codemirror_mode": {
    "name": "ipython",
    "version": 3
   },
   "file_extension": ".py",
   "mimetype": "text/x-python",
   "name": "python",
   "nbconvert_exporter": "python",
   "pygments_lexer": "ipython3",
   "version": "3.10.12"
  }
 },
 "nbformat": 4,
 "nbformat_minor": 2
}
