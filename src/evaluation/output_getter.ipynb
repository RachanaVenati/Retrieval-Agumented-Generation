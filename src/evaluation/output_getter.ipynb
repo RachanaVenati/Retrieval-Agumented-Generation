{
 "cells": [
  {
   "cell_type": "code",
   "execution_count": 13,
   "metadata": {},
   "outputs": [],
   "source": [
    "import weaviate\n",
    "from weaviate.classes.query import MetadataQuery\n",
    "import json\n",
    "from tqdm import tqdm \n",
    "import time"
   ]
  },
  {
   "cell_type": "code",
   "execution_count": 3,
   "metadata": {},
   "outputs": [
    {
     "name": "stderr",
     "output_type": "stream",
     "text": [
      "/var/folders/q_/nv9cmbv52rx2dhltp0q1l10h0000gn/T/ipykernel_53583/3980344427.py:1: ResourceWarning: unclosed <socket.socket fd=75, family=30, type=1, proto=6, laddr=('::1', 55458, 0, 0), raddr=('::1', 8080, 0, 0)>\n",
      "  client = weaviate.connect_to_local(\n",
      "ResourceWarning: Enable tracemalloc to get the object allocation traceback\n"
     ]
    }
   ],
   "source": [
    "client = weaviate.connect_to_local(\n",
    "    port=8080,\n",
    "    grpc_port=50051,\n",
    ")\n",
    "collection=client.collections.get(\"Segments\")\n"
   ]
  },
  {
   "cell_type": "code",
   "execution_count": 4,
   "metadata": {},
   "outputs": [],
   "source": [
    "\n",
    "qrels_file_path = 'qrels/qrels.dl23-doc-msmarco-v2.1.txt'\n",
    "qrels_dict = {}\n",
    "with open(qrels_file_path, 'r') as file:\n",
    "    for line in file:\n",
    "        parts = line.strip().split()\n",
    "        #count it when it is relevant or not non-relevant\n",
    "        if (len(parts) >= 3) & (int(parts[-1]) > 0):\n",
    "            key = parts[0]\n",
    "            msmarco_text = parts[2]\n",
    "            if key in qrels_dict:\n",
    "                qrels_dict[key].append(msmarco_text)\n",
    "            else:\n",
    "                qrels_dict[key] = [msmarco_text]"
   ]
  },
  {
   "cell_type": "code",
   "execution_count": 5,
   "metadata": {},
   "outputs": [],
   "source": [
    "topics_file_path = 'topics/topics.dl23.txt'\n",
    "\n",
    "topics = {}\n",
    "\n",
    "with open(topics_file_path, 'r') as file:\n",
    "    for line in file:\n",
    "        parts = line.strip().split('\\t')\n",
    "        if len(parts) == 2:\n",
    "            topics[parts[0]] = parts[1]"
   ]
  },
  {
   "cell_type": "code",
   "execution_count": null,
   "metadata": {},
   "outputs": [],
   "source": [
    "tqdm()"
   ]
  },
  {
   "cell_type": "code",
   "execution_count": null,
   "metadata": {},
   "outputs": [],
   "source": []
  },
  {
   "cell_type": "code",
   "execution_count": 14,
   "metadata": {},
   "outputs": [
    {
     "name": "stderr",
     "output_type": "stream",
     "text": [
      "I0000 00:00:1722365852.682344 1868183 work_stealing_thread_pool.cc:320] WorkStealingThreadPoolImpl::PrepareFork\n",
      "Processing queries:   4%|▎         | 3/82 [00:27<10:19,  7.84s/it]"
     ]
    }
   ],
   "source": [
    "output = {}\n",
    "for e in tqdm(qrels_dict, desc=\"Processing queries\"):\n",
    "    output[e] = []\n",
    "    relevant_doc_num = len(qrels_dict[e])\n",
    "    topic = topics[e]\n",
    "    if relevant_doc_num <  30000:\n",
    "        try:\n",
    "            response = collection.query.near_text(\n",
    "                query=topic,\n",
    "                limit=relevant_doc_num,\n",
    "                return_metadata=MetadataQuery(distance=True, certainty=True)\n",
    "            )\n",
    "        except:\n",
    "            client.close()\n",
    "            client.connect()\n",
    "            response = collection.query.near_text(\n",
    "                query=topic,\n",
    "                limit=relevant_doc_num,\n",
    "                return_metadata=MetadataQuery(distance=True, certainty=True)\n",
    "            )\n",
    "        for o in response.objects:\n",
    "            response_dict = {}\n",
    "            response_dict['document'] = o.properties\n",
    "            response_dict['score'] = o.metadata.certainty\n",
    "            output[e].append(response_dict)\n",
    "\n",
    "\n",
    "client.close()\n",
    "\n",
    "# File path where you want to save the JSON\n",
    "version = topics_file_path.split('.')[-2]\n",
    "file_path = 'outputs/output_' + version + '.json'\n",
    "\n",
    "# Open the file in write mode and use json.dump to write the dictionary\n",
    "with open(file_path, 'w') as file:\n",
    "    json.dump(output, file, indent=4)"
   ]
  },
  {
   "cell_type": "code",
   "execution_count": null,
   "metadata": {},
   "outputs": [],
   "source": []
  }
 ],
 "metadata": {
  "kernelspec": {
   "display_name": "venv",
   "language": "python",
   "name": "python3"
  },
  "language_info": {
   "codemirror_mode": {
    "name": "ipython",
    "version": 3
   },
   "file_extension": ".py",
   "mimetype": "text/x-python",
   "name": "python",
   "nbconvert_exporter": "python",
   "pygments_lexer": "ipython3",
   "version": "3.11.9"
  }
 },
 "nbformat": 4,
 "nbformat_minor": 2
}
