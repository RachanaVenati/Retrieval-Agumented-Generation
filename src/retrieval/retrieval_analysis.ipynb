{
 "cells": [
  {
   "cell_type": "code",
   "execution_count": 2,
   "metadata": {},
   "outputs": [],
   "source": [
    "from collections import defaultdict\n"
   ]
  },
  {
   "cell_type": "code",
   "execution_count": 9,
   "metadata": {},
   "outputs": [],
   "source": [
    "input_file_path = '/Users/cemerturkan/Desktop/weaviate-vectordb-neartext-1000.run'\n",
    "output_file_path = '/Users/cemerturkan/Desktop/r_output_trec_rag_2024.tsv'\n",
    "\n",
    "\n",
    "# Initialize a dictionary to hold lines grouped by query ID\n",
    "query_dict = defaultdict(list)\n",
    "\n",
    "# Read the file and group lines by query ID\n",
    "with open(input_file_path, 'r') as file:\n",
    "    for line in file:\n",
    "        query_id = line.split()[0]  # Get the query ID (first value in each line)\n",
    "        modified_line = line.rstrip().replace('weaviate', 'weaviate_dense_base') + '\\n'\n",
    "        query_dict[query_id].append(modified_line)\n",
    "\n",
    "# Write the top 100 results for each query ID to a new file\n",
    "with open(output_file_path, 'w') as outfile:\n",
    "    for query_id, lines in query_dict.items():\n",
    "        top_100 = lines[:100]  # Get the top 100 lines for this query\n",
    "        outfile.writelines(top_100)\n",
    "        "
   ]
  },
  {
   "cell_type": "code",
   "execution_count": 7,
   "metadata": {},
   "outputs": [
    {
     "name": "stdout",
     "output_type": "stream",
     "text": [
      "Condition 1 (301 queries): Passed\n",
      "Condition 2 (100 documents per query): Passed\n",
      "Condition 3 (All segments unique within each query): Passed\n"
     ]
    }
   ],
   "source": [
    "# Initialize a dictionary to hold lines grouped by query ID\n",
    "query_dict = defaultdict(list)\n",
    "\n",
    "# Read the output file and group lines by query ID\n",
    "with open(output_file_path, 'r') as file:\n",
    "    for line in file:\n",
    "        parts = line.split()\n",
    "        query_id = parts[0]\n",
    "        segment_id = parts[2]\n",
    "        \n",
    "        query_dict[query_id].append(segment_id)\n",
    "\n",
    "# 1. Check if the number of queries is equal to 301\n",
    "num_queries = len(query_dict)\n",
    "condition_1 = num_queries == 301\n",
    "print(f\"Condition 1 (301 queries): {'Passed' if condition_1 else 'Failed'}\")\n",
    "\n",
    "# 2. Check if each query has 100 documents retrieved\n",
    "condition_2 = all(len(docs) == 100 for docs in query_dict.values())\n",
    "print(f\"Condition 2 (100 documents per query): {'Passed' if condition_2 else 'Failed'}\")\n",
    "\n",
    "# 3. Check if all segments for each query are unique\n",
    "duplicates_found = False\n",
    "for query_id, segments in query_dict.items():\n",
    "    if len(segments) != len(set(segments)):\n",
    "        duplicates_found = True\n",
    "        print(f\"Duplicate segments found in query '{query_id}'\")\n",
    "\n",
    "if not duplicates_found:\n",
    "    print(\"Condition 3 (All segments unique within each query): Passed\")\n",
    "else:\n",
    "    print(\"Condition 3 (All segments unique within each query): Failed\")"
   ]
  },
  {
   "cell_type": "code",
   "execution_count": null,
   "metadata": {},
   "outputs": [],
   "source": []
  }
 ],
 "metadata": {
  "kernelspec": {
   "display_name": "venv",
   "language": "python",
   "name": "python3"
  },
  "language_info": {
   "codemirror_mode": {
    "name": "ipython",
    "version": 3
   },
   "file_extension": ".py",
   "mimetype": "text/x-python",
   "name": "python",
   "nbconvert_exporter": "python",
   "pygments_lexer": "ipython3",
   "version": "3.10.14"
  }
 },
 "nbformat": 4,
 "nbformat_minor": 2
}
