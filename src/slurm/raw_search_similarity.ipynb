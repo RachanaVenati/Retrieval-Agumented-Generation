{
 "cells": [
  {
   "cell_type": "code",
   "execution_count": 5,
   "metadata": {},
   "outputs": [],
   "source": [
    "import os\n",
    "import torch\n",
    "from sklearn.metrics.pairwise import cosine_similarity\n",
    "from sentence_transformers import SentenceTransformer\n",
    "import numpy as np\n",
    "\n",
    "\n",
    "# Check if a GPU is available\n",
    "device = \"cuda\" if torch.cuda.is_available() else \"cpu\"\n",
    "\n",
    "# Load the model\n",
    "model = SentenceTransformer('sentence-transformers/multi-qa-MiniLM-L6-cos-v1')\n",
    "\n",
    "model = model.to(device)\n",
    "\n",
    "# Function to get embeddings for a batch of texts\n",
    "def get_embeddings_batch(texts):\n",
    "    with torch.no_grad():\n",
    "        batch_embeddings = model.encode(texts, convert_to_tensor=True)\n",
    "    \n",
    "    return batch_embeddings"
   ]
  },
  {
   "cell_type": "code",
   "execution_count": 21,
   "metadata": {},
   "outputs": [],
   "source": [
    "def calculate_and_print_cosine_similarity(vector1, vector2):\n",
    "    vector1 = np.array(vector1).reshape(1, -1)\n",
    "    vector2 = np.array(vector2).reshape(1, -1)\n",
    "    # Calculate cosine similarity\n",
    "    similarity = cosine_similarity(vector1, vector2)[0][0]\n",
    "\n",
    "    return float(similarity)"
   ]
  },
  {
   "cell_type": "code",
   "execution_count": 3,
   "metadata": {},
   "outputs": [],
   "source": [
    "d = torch.load(\"/Users/cemerturkan/Downloads/msmarco_v2.1_doc_segmented_00_100352.pt\", map_location=torch.device('cpu'))"
   ]
  },
  {
   "cell_type": "code",
   "execution_count": 23,
   "metadata": {},
   "outputs": [
    {
     "name": "stdout",
     "output_type": "stream",
     "text": [
      "msmarco_v2.1_doc_00_61748238#5_115047813 0.6289627552032471\n"
     ]
    }
   ],
   "source": [
    "query = \"What is a shark?\"\n",
    "query_vector = get_embeddings_batch(query)\n",
    "top_sim = 0.0\n",
    "similar_name = \"\"\n",
    "for segment in list(d.keys()):\n",
    "    sim = calculate_and_print_cosine_similarity(query_vector, d[segment])\n",
    "    if sim > top_sim:\n",
    "        top_sim = sim\n",
    "        similar_name = segment\n",
    "\n",
    "print(similar_name, top_sim)"
   ]
  }
 ],
 "metadata": {
  "kernelspec": {
   "display_name": "venv",
   "language": "python",
   "name": "python3"
  },
  "language_info": {
   "codemirror_mode": {
    "name": "ipython",
    "version": 3
   },
   "file_extension": ".py",
   "mimetype": "text/x-python",
   "name": "python",
   "nbconvert_exporter": "python",
   "pygments_lexer": "ipython3",
   "version": "3.11.6"
  }
 },
 "nbformat": 4,
 "nbformat_minor": 2
}
