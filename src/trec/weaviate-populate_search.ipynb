{
 "cells": [
  {
   "cell_type": "code",
   "execution_count": null,
   "metadata": {},
   "outputs": [],
   "source": [
    "import weaviate\n",
    "import ijson\n",
    "from tqdm import tqdm\n",
    "import json\n",
    "from weaviate.classes.config import Configure,Property,DataType,VectorDistances,Tokenization\n",
    "from pyserini.search.lucene import LuceneSearcher\n",
    "from weaviate.classes.query import Rerank, MetadataQuery\n",
    "import time\n",
    "import requests\n",
    "client = weaviate.connect_to_local()\n",
    "#connecting to weaviate client."
   ]
  },
  {
   "cell_type": "code",
   "execution_count": null,
   "metadata": {},
   "outputs": [],
   "source": [
    "#creating a collection for actual data trec\n",
    "client.collections.create(\"trec_final\",properties=[Property(name=\"docid\",data_type=DataType.TEXT,skip_vectorization=True),\n",
    "                                                            Property(name=\"url\",data_type=DataType.TEXT,skip_vectorization=True),\n",
    "                                                            Property(name=\"title\",data_type=DataType.TEXT,skip_vectorization=True),\n",
    "                                                            Property(name=\"segment\",data_type=DataType.TEXT,tokenization=Tokenization.LOWERCASE),\n",
    "                                                            Property(name=\"headings\",data_type=DataType.TEXT,skip_vectorization=True)],\n",
    "                                                            #Property(name=\"end_char\",data_type=DataType.INT,skip_vectorization=True)],\n",
    "                                                 vectorizer_config=[\n",
    "                                                                # Set another named vector\n",
    "                                                                # Configure.NamedVectors.text2vec_transformers(  # Use the \"text2vec-openai\" vectorizer\n",
    "                                                                # name=\"title\", source_properties=[\"segment\"]    \n",
    "                                                                # ) ,\n",
    "                                                                Configure.NamedVectors.text2vec_transformers(  # Use the \"text2vec-openai\" vectorizer\n",
    "                                                                name=\"segment\", source_properties=[\"segment\"]    \n",
    "                                                                )     # Set the source property(ies)\n",
    "\n",
    "\n",
    "    ])\n"
   ]
  },
  {
   "cell_type": "code",
   "execution_count": null,
   "metadata": {},
   "outputs": [],
   "source": [
    "#adding json data to weaviate \n",
    "collection = client.collections.get(\"trec_final\")\n",
    "\n",
    "with open('/mnt/ssd1/pyserini_r_final_segments/topics_final_r_segments_unique_array.json', 'r', encoding='utf-8') as file:\n",
    "    objects = ijson.items(file, 'item')\n",
    "    \n",
    "    with collection.batch.dynamic() as batch:\n",
    "        for obj in objects:\n",
    "            properties = {\n",
    "                \"docid\": obj[\"docid\"],\n",
    "                \"url\": obj[\"url\"],\n",
    "                \"title\": obj[\"title\"],\n",
    "                \"headings\": obj[\"headings\"],\n",
    "                \"segment\": obj[\"segment\"]\n",
    "            }\n",
    "            batch.add_object(properties)"
   ]
  },
  {
   "cell_type": "code",
   "execution_count": null,
   "metadata": {},
   "outputs": [],
   "source": [
    "#final output file for submission\n",
    "import json\n",
    "query_batch_size = 1\n",
    "input_file = '/home/rag/Desktop/project-rag-ss24/src/finale/test topics retreival/topics_rag24_test.json'\n",
    "output_file = '/home/rag/Desktop/project-rag-ss24/src/finale/output_files/r_final.tsv'\n",
    "counter=0\n",
    "with open(input_file, 'r') as f:\n",
    "    queries_dict = json.load(f)\n",
    "collection=client.collections.get('trec_final')\n",
    "def process_query_batch(query_batch):\n",
    "    counter=0\n",
    "    results = []\n",
    "    for query_obj in query_batch:\n",
    "        query = query_obj['query']\n",
    "        # Assuming 'collection.query.hybrid' is a function that takes 'query' and returns a list of responses\n",
    "        hybrid_text_response = collection.query.hybrid(query, limit=20, return_metadata=MetadataQuery(score=True, explain_score=True))\n",
    "        \n",
    "        for response in hybrid_text_response.objects:\n",
    "            counter=counter+1\n",
    "            with open(output_file, 'a') as out_f:\n",
    "                # Write the query id and response docid as a tab-separated line\n",
    "                out_f.write(f\"{query_obj['id']}\\t{response.properties.get('docid')}\\t{counter}\\t{response.metadata.score}\\n\")\n",
    "        \n",
    "\n",
    "for i in range(0, len(queries_dict), query_batch_size):\n",
    "    query_batch = queries_dict[i:i + query_batch_size]\n",
    "    process_query_batch(query_batch)"
   ]
  }
 ],
 "metadata": {
  "language_info": {
   "name": "python"
  }
 },
 "nbformat": 4,
 "nbformat_minor": 2
}
