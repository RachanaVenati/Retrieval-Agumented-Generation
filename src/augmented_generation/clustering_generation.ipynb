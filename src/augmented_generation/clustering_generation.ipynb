{
 "cells": [
  {
   "cell_type": "code",
   "execution_count": 10,
   "metadata": {},
   "outputs": [],
   "source": [
    "import weaviate\n",
    "from weaviate.classes.query import MetadataQuery\n",
    "from weaviate.exceptions import WeaviateQueryError\n",
    "from weaviate.classes.init import AdditionalConfig, Timeout\n",
    "import json\n",
    "from tqdm import tqdm \n",
    "import time\n",
    "from sklearn.cluster import DBSCAN\n",
    "from sklearn.metrics import silhouette_score\n",
    "from sklearn.neighbors import NearestNeighbors\n",
    "import numpy as np\n",
    "import matplotlib.pyplot as plt\n",
    "import json\n",
    "from sentence_transformers import SentenceTransformer, util\n",
    "from sklearn.metrics.pairwise import cosine_similarity\n",
    "import re\n",
    "from llm_calls import generation\n",
    "from epsilon_estimation import estimate_optimal_epsilon\n"
   ]
  },
  {
   "cell_type": "code",
   "execution_count": 18,
   "metadata": {},
   "outputs": [],
   "source": [
    "client.close()"
   ]
  },
  {
   "cell_type": "code",
   "execution_count": 6,
   "metadata": {},
   "outputs": [],
   "source": [
    "def separate_clusters(labels, objects):\n",
    "    # Create a dictionary to store objects in their respective clusters\n",
    "    clusters = {}\n",
    "    \n",
    "    # Iterate over the labels and the corresponding objects\n",
    "    for idx, label in enumerate(labels):\n",
    "        label = int(label)\n",
    "        # If label is not in the dictionary, add it\n",
    "        if label not in clusters:\n",
    "            clusters[label] = []\n",
    "        # Append the object to the corresponding cluster\n",
    "        clusters[label].append(objects[idx])\n",
    "    \n",
    "    return clusters"
   ]
  },
  {
   "cell_type": "code",
   "execution_count": 7,
   "metadata": {},
   "outputs": [],
   "source": [
    "client = weaviate.connect_to_custom(\n",
    "    http_host=\"weaviatedb.srv.webis.de\",  \n",
    "    http_port=80,                       \n",
    "    http_secure=False,   \n",
    "    grpc_host=\"weaviateinference.srv.webis.de\",  \n",
    "    grpc_port=80,                       \n",
    "    grpc_secure=False,\n",
    "    skip_init_checks=True,\n",
    "    additional_config=AdditionalConfig(\n",
    "        timeout=Timeout(init=1200, query=2400, insert=1200)  # Values in seconds\n",
    "    )\n",
    ")\n",
    "collection=client.collections.get(\"Segments\")\n"
   ]
  },
  {
   "cell_type": "code",
   "execution_count": 8,
   "metadata": {},
   "outputs": [],
   "source": [
    "topics_file_path = '../Data/topics.rag24.test.txt'\n",
    "\n",
    "topics = {}\n",
    "\n",
    "with open(topics_file_path, 'r') as file:\n",
    "    for line in file:\n",
    "        parts = line.strip().split('\\t')\n",
    "        if len(parts) == 2:\n",
    "            topics[parts[0]] = parts[1]\n",
    "\n",
    "topic_keys = list(topics.keys())"
   ]
  },
  {
   "cell_type": "markdown",
   "metadata": {},
   "source": [
    "# Clustering Solution"
   ]
  },
  {
   "cell_type": "code",
   "execution_count": 9,
   "metadata": {},
   "outputs": [
    {
     "name": "stderr",
     "output_type": "stream",
     "text": [
      "100%|██████████| 100/100 [00:10<00:00,  9.64it/s]\n"
     ]
    },
    {
     "name": "stdout",
     "output_type": "stream",
     "text": [
      " * Vicarious trauma is an ongoing process of change over time.\n",
      "* It results from witnessing or hearing about other people’s pain and suffering.\n",
      "* Personal reactions to traumatic material can be delayed.\n",
      "* Listening to traumatic material can trigger memories of your own previous traumas.\n",
      "* Vicarious trauma is similar to direct trauma, carrying many of the same symptoms and treated in many of the same ways.\n",
      "* Medical providers, law enforcement, mental health staff, social workers, and those working in the courts are at risk of developing vicarious trauma symptoms.\n",
      "* How one experiences vicarious trauma depends on personality, personal experience, life stressors, social support, and spiritual resources.\n",
      "* Common reactions to vicarious trauma were not specified in the document. * Taking care of one's body, including getting enough sleep, eating healthy, and exercising regularly, can help in treating vicarious trauma\n",
      "* Engaging in hobbies that make you feel good, practicing mindfulness or yoga, and considering therapy are ways to treat vicarious trauma\n",
      "* Socializing is considered beneficial for the mind and can be a part of treating vicarious trauma\n",
      "* It may be necessary to take time off work to treat vicarious trauma. * Difficulty in determining the prevalence of vicarious victimization due to research limitations such as poor generalizability and reliance on cross-sectional data\n",
      "* Predictors of vicarious victimization may include historical and primary trauma, as well as overlap in childhood and adult onset\n",
      "* Specific symptoms and long-term outcomes of vicarious victimization are difficult to tease apart due to correlates like trauma exposure response and moral distress\n",
      "* Evidence-based interventions for vicarious victimization are virtually non-existent\n",
      "* Some strategies for addressing vicarious victimization include individual-level self-care and organizational response\n",
      "* Future research should track distal outcomes of service providers, the agencies that employ them, and the populations they serve\n",
      "* Vicarious victimization is largely an occupational hazard for victim service providers\n",
      "* Victim service providers are professionals or volunteers who regularly work with victims. * Complex trauma refers to exposure to multiple traumatic events\n",
      "* Secondary trauma, or vicarious trauma, involves developing trauma symptoms from close contact with someone who has experienced a traumatic event\n",
      "* Family members, mental health professionals, and others who care for those who have experienced trauma are at risk of vicarious trauma\n",
      "* Symptoms of trauma can range from mild to severe\n",
      "* Many factors determine how a traumatic event affects a person, including their characteristics, presence of other mental health conditions, previous exposure to traumatic events, type and characteristics of the event or events, and their background and approach to handling emotions\n",
      "* Emotional and psychological responses to trauma include denial, anger, fear, sadness, shame, confusion, anxiety, depression, numbness, guilt, hopelessness, irritability, difficulty concentrating, emotional outbursts, and withdrawal from others\n",
      "* Trauma symptoms often mirror those of PTSD. * Vicarious trauma, secondary traumatic stress, and burnout are common impacts of responding to family violence\n",
      "* Vicarious trauma results from repeated exposure to other people's trauma and their stories of traumatic events\n",
      "* Secondary traumatic stress has symptoms that mimic those of PTSD\n",
      "* Burnout is related to a person's work and is characterized by prolonged physical and psychological exhaustion\n",
      "* Responding to family violence can have significant effects on individuals, including changes in world view and belief systems\n",
      "* The demands on specialist family violence practitioners in Victoria are particularly high due to the issue of family violence being addressed at an unprecedented rate.\n"
     ]
    }
   ],
   "source": [
    "output_file_path = './submissions/clustering_output.txt'\n",
    "count = 0\n",
    "#with open(output_file_path, 'w') as file:\n",
    "for topic_id in topic_keys:\n",
    "    count += 1\n",
    "    query = topics[topic_id]\n",
    "    response = collection.query.near_text(\n",
    "                query=query,\n",
    "                limit=100,\n",
    "                return_metadata=MetadataQuery(distance=True, certainty=True)\n",
    "            )\n",
    "    # weirdly there was no way to retrieve the vector alongside \n",
    "    # the text and the metadata so i had to find a backdoor solution\n",
    "    # by running another retrieval based on ids\n",
    "    embs_to_cluster = []\n",
    "    objects_retrieved = response.objects\n",
    "    for o in tqdm(objects_retrieved):\n",
    "        o_with_vector = collection.query.fetch_object_by_id(o.uuid, include_vector= True)\n",
    "        embs_to_cluster.append(o_with_vector.vector['default'] )\n",
    "\n",
    "    \n",
    "    # May need to adjust eps for each query\n",
    "    dbscan = DBSCAN(eps=0.1555, metric='cosine')\n",
    "    labels = dbscan.fit_predict(embs_to_cluster)\n",
    "    \n",
    "    clusters = separate_clusters(labels, objects_retrieved)\n",
    "    output = {\"run_id\": \"buw\", \"topic_id\": topic_id, \"topic\": query, \"references\": [], \"response_length\": 0, \"answer\": []}\n",
    "    full_response = \"\"\n",
    "    previous_info = \"\"\n",
    "    turn_no = 1\n",
    "    for label in clusters.keys():\n",
    "        llm_response_dict = {\"text\": \"\", \"citations\": []}\n",
    "        segment = clusters[label][0].properties['segment']\n",
    "        docid = clusters[label][0].properties['docid']\n",
    "        llm_response, previous_info = generation(query,[segment], turn_no,full_response, previous_info)\n",
    "        full_response += \" \" + llm_response\n",
    "\n",
    "\n",
    "        output[\"references\"].append(docid)\n",
    "\n",
    "        cite_idx = len(output[\"references\"]) - 1\n",
    "        llm_response_dict[\"text\"] = llm_response\n",
    "        llm_response_dict[\"citations\"].append(cite_idx)\n",
    "        output[\"answer\"].append(llm_response_dict)\n",
    "\n",
    "        output[\"response_length\"] += len(llm_response.split())\n",
    "        turn_no += 1\n",
    "    \n",
    "    #file.write(json.dumps(output, indent=4))\n",
    "    if count == 1:\n",
    "        print(previous_info)\n",
    "        break"
   ]
  },
  {
   "cell_type": "code",
   "execution_count": 17,
   "metadata": {},
   "outputs": [
    {
     "name": "stdout",
     "output_type": "stream",
     "text": [
      "Optimal epsilon: None\n"
     ]
    }
   ],
   "source": [
    "eps_values = np.linspace(0.1, 0.2, 10)\n",
    "optimal_eps = estimate_optimal_epsilon(embs_to_cluster, eps_values)\n",
    "print(f\"Optimal epsilon: {optimal_eps}\")\n",
    "# May need to adjust eps for each query\n",
    "dbscan = DBSCAN(eps=optimal_eps, metric='cosine')\n",
    "labels = dbscan.fit_predict(embs_to_cluster)\n",
    "labels"
   ]
  },
  {
   "cell_type": "code",
   "execution_count": 50,
   "metadata": {},
   "outputs": [
    {
     "data": {
      "text/plain": [
       "{'run_id': 'buw',\n",
       " 'topic_id': '2024-145979',\n",
       " 'topic': 'what is vicarious trauma and how can it be coped with?',\n",
       " 'references': ['msmarco_v2.1_doc_44_1043805224#2_2182641075',\n",
       "  'msmarco_v2.1_doc_13_1647729865#6_3617408591',\n",
       "  'msmarco_v2.1_doc_49_290196220#3_591257058',\n",
       "  'msmarco_v2.1_doc_46_845296587#5_1805125294',\n",
       "  'msmarco_v2.1_doc_54_1467297918#0_3111557199'],\n",
       " 'response_length': 736,\n",
       " 'answer': [{'text': ' Vicarious trauma is an ongoing process of change that develops over time as a result of witnessing or hearing about other people’s pain and suffering. It shares many symptoms and treatment methods with direct trauma. Those at risk include medical providers, law enforcement, mental health staff, social workers, and court staff. The experience of vicarious trauma can vary depending on personality, personal experience, life stressors, social support, and spiritual resources. Personal reactions to traumatic material can be delayed, and listening to such material can trigger memories of an individual’s own previous traumas.',\n",
       "   'citations': [0]},\n",
       "  {'text': \" Treatment for vicarious trauma can involve caring for one's physical health, including getting sufficient sleep, eating nutritiously, and engaging in regular exercise. Engaging in enjoyable hobbies, practicing mindfulness or yoga, and considering therapy are also recommended for managing vicarious trauma. Socializing is encouraged as a way to fuel the mind and aid in recovery. In some cases, it may be necessary to take time off work when treating vicarious trauma.\",\n",
       "   'citations': [1]},\n",
       "  {'text': \" Vicarious victimization is an occupational hazard for victim service providers, such as professionals or volunteers who regularly work with victims. It can lead to outcomes similar to direct trauma, including symptoms that are difficult to distinguish due to correlates like historical and primary trauma, as well as overlap in childhood and adult onset. Despite this, evidence-based interventions for vicarious victimization are virtually non-existent.\\n\\nSome strategies for managing vicarious victimization generally fall into two categories: individual-level self-care and organizational response. Individual-level self-care can involve caring for one's physical health, engaging in enjoyable hobbies, practicing mindfulness or yoga, considering therapy, and socializing with others. Organizational responses may include tracking distal outcomes of service providers, the agencies that employ them, and the populations they serve.\\n\\nResearch related to vicarious victimization was supported by the National Institute of General Medical Sciences of the National Institutes of Health under Award Number 5P20GM104417. However, due to research limitations such as poor generalizability and reliance on cross-sectional data, difficulty in determining the prevalence of vicarious victimization remains.\\n\\nPrevious traumas can be triggered by listening to traumatic material in vicarious victimization. Predictors of vicarious victimization include historical and primary trauma, as well as overlap in childhood and adult onset.\",\n",
       "   'citations': [2]},\n",
       "  {'text': \" Vicarious trauma, also known as secondary trauma, is a form of trauma that occurs from close contact with someone who has experienced a traumatic event. Family members, mental health professionals, and others who care for those who have experienced a traumatic event are at risk. The symptoms of vicarious trauma often mirror those of PTSD, including denial, anger, fear, sadness, shame, confusion, anxiety, depression, numbness, guilt, hopelessness, irritability, difficulty concentrating, and emotional outbursts. These symptoms can range from mild to severe.\\n\\nTreatment for vicarious trauma can involve caring for one's physical health, such as getting sufficient sleep, eating nutritiously, and engaging in regular exercise. Engaging in enjoyable hobbies, practicing mindfulness or yoga, and considering therapy are also recommended for managing vicarious trauma. Socializing is encouraged as a way to fuel the mind and aid in recovery, and it may be necessary to take time off work when treating vicarious trauma.\\n\\nIt's important to note that previous traumas can be triggered by listening to traumatic material in vicarious trauma. Predictors of vicarious victimization include historical and primary trauma, as well as overlap in childhood and adult onset. Research into vicarious victimization is ongoing, but due to limitations such as poor generalizability and reliance on cross-sectional data, determining the prevalence of vicarious victimization remains challenging.\",\n",
       "   'citations': [3]},\n",
       "  {'text': ' In Victoria, the demands on specialist family violence practitioners are particularly high due to an unprecedented focus on the issue of family violence, which can increase the risk of vicarious trauma, secondary traumatic stress, and burnout.\\n\\nVicarious trauma can result from working with people who have experienced or perpetrated family violence, and it has symptoms that mimic those of post-traumatic stress disorder (PTSD). In addition to the impacts already mentioned, it can also lead to outcomes similar to direct trauma, including symptoms that are difficult to distinguish due to correlates like historical and primary trauma, as well as overlap in childhood and adult onset.\\n\\nDespite the risks, evidence-based interventions for vicarious victimization are virtually non-existent. However, some strategies for managing vicarious victimization generally fall into two categories: individual-level self-care and organizational response. Organizational responses may include tracking distal outcomes of service providers, the agencies that employ them, and the populations they serve to help mitigate the impacts of vicarious trauma.',\n",
       "   'citations': [4]}]}"
      ]
     },
     "execution_count": 50,
     "metadata": {},
     "output_type": "execute_result"
    }
   ],
   "source": [
    "output"
   ]
  },
  {
   "cell_type": "code",
   "execution_count": 90,
   "metadata": {},
   "outputs": [
    {
     "data": {
      "text/plain": [
       "\" * Vicarious trauma results from witnessing or hearing about other people’s pain and suffering\\n* Personal reactions to traumatic material can be delayed\\n* Listening to traumatic material can trigger memories of previous traumas\\n* Symptoms of vicarious trauma are similar to those of direct trauma and can include many of the same symptoms\\n* Those at risk of developing vicarious trauma include medical providers, law enforcement, mental health staff, social workers, and court personnel\\n* Experience of vicarious trauma depends on personality, personal experience, life stressors, social support, and spiritual resources\\n* Common reactions to vicarious trauma are not specified in the document. * The treatment of vicarious trauma involves self-care for the body and mind\\n* Self-care measures include getting enough sleep, eating healthy, and exercising regularly\\n* Mindfulness and yoga are recommended for managing vicarious trauma\\n* Seeking therapy is suggested as a way to treat vicarious trauma\\n* Socializing is encouraged as a means to fuel the mind and help in treating vicarious trauma\\n* Taking time off work is mentioned as a possible requirement for treating vicarious trauma. * Vicarious victimization is an umbrella term that encompasses various phenomena such as vicarious traumatization, secondary traumatic stress, compassion fatigue, trauma exposure response, burnout, moral distress, and counter-transference\\n* It primarily affects victim service providers, who are professionals or volunteers regularly working with victims\\n* Research on vicarious victimization is limited by poor generalizability and reliance on cross-sectional data\\n* Predictors of vicarious victimization include historical and primary trauma as well as overlap in childhood and adult onset\\n* There is little to no evidence-based intervention for vicarious victimization, but some strategies are discussed in the literature, generally falling into individual-level self-care and organizational response categories\\n* Future research should track distal outcomes of service providers, their agencies, and the populations they serve. * Complex trauma is a result of exposure to multiple traumatic events\\n* Secondary trauma, or vicarious trauma, is a form of trauma that occurs from close contact with someone who has experienced a traumatic event\\n* Family members, mental health professionals, and others who care for those who have experienced a traumatic event are at risk of vicarious trauma\\n* Symptoms of trauma can range from mild to severe\\n* Many factors determine how a traumatic event affects a person, including their characteristics, presence of other mental health conditions, previous exposure to traumatic events, type and characteristics of the event or events, their background and approach to handling emotions\\n* Emotional and psychological responses to trauma include denial, anger, fear, sadness, shame, confusion, anxiety, depression, numbness, guilt, hopelessness, irritability, difficulty concentrating, and emotional outbursts. * Vicarious trauma is a result of repeated exposure to other people's trauma and their stories of traumatic events\\n* In this document, vicarious trauma is discussed in the context of family violence workers\\n* Secondary traumatic stress has symptoms that mimic those of post-traumatic stress disorder (PTSD)\\n* Burnout is defined as prolonged physical and psychological exhaustion related to a person's work\\n* Vicarious trauma is cumulative, building up over time\\n* Impacts of responding to family violence also include emotional duress that results from hearing about the firsthand trauma experiences of another (secondary traumatic stress)\\n* The treatment of vicarious trauma involves increasing awareness and understanding of its impacts and taking steps to mitigate them.\""
      ]
     },
     "execution_count": 90,
     "metadata": {},
     "output_type": "execute_result"
    }
   ],
   "source": [
    "previous_info"
   ]
  },
  {
   "cell_type": "code",
   "execution_count": 65,
   "metadata": {},
   "outputs": [
    {
     "data": {
      "text/plain": [
       "\"  Vicarious trauma is a result of witnessing or hearing about other people’s pain and suffering, often affecting professionals such as medical providers, law enforcement, mental health staff, social workers, and court personnel. The personal reactions to vicarious trauma can be delayed and may vary depending on personality, personal experience, life stressors, social support, and spiritual resources. In some cases, listening to traumatic material can trigger memories of one’s own previous traumas. Experiencing vicarious trauma is similar to direct trauma, with many shared symptoms and treatment methods.  While it's crucial to take care of one's physical health by ensuring sufficient sleep, eating nutritiously, and staying active, addressing vicarious trauma also requires self-care for the mind. Engaging in activities that foster relaxation and introspection, such as practicing mindfulness or yoga, can greatly benefit those affected. Moreover, forming connections with family, friends, and loved ones plays a significant role in coping with vicarious trauma. In some instances, professionals may recommend therapy sessions to help process the traumatic experiences and develop healthy strategies for managing emotions. If work-related exposure is causing distress, taking time off might be essential for recovery and prevention of further harm.  Vicarious victimization serves as an occupational hazard for various professionals, including victim service providers. This term encompasses a range of concepts such as vicarious traumatization, secondary traumatic stress, compassion fatigue, trauma exposure response, burnout, moral distress, and counter-transference. Despite the widespread impact of vicarious victimization, evidence-based interventions are currently sparse.\\n\\nResearch on vicarious victimization faces challenges in determining prevalence, partly due to limitations like poor generalizability and reliance on cross-sectional data. Predictors of vicarious victimization include historical and primary trauma, as well as overlap in childhood and adult onset.\\n\\nTo address vicarious victimization, strategies can be categorized into individual-level self-care and organizational response. For the individual, fostering relaxation through mindfulness or yoga and nurturing relationships with family, friends, and loved ones are beneficial. Therapy sessions might also be recommended for professionals to help process traumatic experiences and develop healthy coping mechanisms. Taking time off work-related exposure can be crucial for recovery and prevention of further harm.\\n\\nIn terms of organizational response, future research should focus on tracking distal outcomes of service providers, their employing agencies, and the populations they serve. This will help in creating evidence-based interventions to tackle vicarious victimization more effectively.  At risk for vicarious trauma are family members, mental health professionals, and others who have close contact with individuals who have experienced traumatic events. Symptoms of vicarious trauma can range from mild to severe, mirroring those of direct trauma, and may include denial, anger, fear, sadness, shame, confusion, anxiety, depression, numbness, guilt, hopelessness, irritability, difficulty concentrating, emotional outbursts, and finding it hard to cope with emotions or withdrawing from others. Various factors can influence how a traumatic event affects a person, such as their characteristics, presence of other mental health conditions, previous exposure to traumatic events, type and characteristics of the event or events, and their background and approach to handling emotions. Coping strategies for vicarious trauma can involve engaging in relaxing activities like mindfulness or yoga, building connections with family, friends, and loved ones, and seeking therapy sessions to process the traumatic experiences and develop healthy coping mechanisms. Organizational responses should focus on creating evidence-based interventions through tracking distal outcomes of service providers, their employing agencies, and the populations they serve.  In the context of family violence workers in Victoria, responding to harrowing situations on a daily basis can lead to vicarious trauma, secondary traumatic stress, and burnout. Vicarious trauma is a response to repeated exposure to other people's trauma stories, while secondary traumatic stress results from hearing about firsthand trauma experiences of another. Burnout, on the other hand, is prolonged physical and psychological exhaustion related to a person's work. Coping with vicarious trauma can involve engaging in relaxing activities like practicing mindfulness or yoga, forming connections with family, friends, and loved ones, and seeking therapy sessions to process the traumatic experiences and develop healthy strategies for managing emotions. Addressing this issue also requires organizations to focus on creating evidence-based interventions through tracking distal outcomes of service providers, their employing agencies, and the populations they serve.\""
      ]
     },
     "execution_count": 65,
     "metadata": {},
     "output_type": "execute_result"
    }
   ],
   "source": [
    "full_response"
   ]
  },
  {
   "cell_type": "markdown",
   "metadata": {},
   "source": [
    "# Clustering Hyperparameter Tuning"
   ]
  },
  {
   "cell_type": "code",
   "execution_count": 184,
   "metadata": {},
   "outputs": [
    {
     "name": "stderr",
     "output_type": "stream",
     "text": [
      "100%|██████████| 100/100 [00:19<00:00,  5.16it/s]\n"
     ]
    },
    {
     "data": {
      "text/plain": [
       "[<matplotlib.lines.Line2D at 0x1444f2230>]"
      ]
     },
     "execution_count": 184,
     "metadata": {},
     "output_type": "execute_result"
    },
    {
     "data": {
      "image/png": "[encoded data removed]",
      "text/plain": [
       "<Figure size 640x480 with 1 Axes>"
      ]
     },
     "metadata": {},
     "output_type": "display_data"
    }
   ],
   "source": [
    "query = topics[topic_keys[2]]\n",
    "response = collection.query.near_text(\n",
    "            query=query,\n",
    "            limit=100,\n",
    "            return_metadata=MetadataQuery(distance=True, certainty=True)\n",
    "        )\n",
    "# weirdly there was no way to retrieve the vector alongside \n",
    "# the text and the metadata so i had to find a backdoor solution\n",
    "# by running another retrieval based on ids\n",
    "embs_to_cluster = []\n",
    "objects_retrieved = response.objects\n",
    "for o in tqdm(objects_retrieved):\n",
    "    o_with_vector = collection.query.fetch_object_by_id(o.uuid, include_vector= True)\n",
    "    embs_to_cluster.append(o_with_vector.vector['default'] )\n",
    "\n",
    "neigh = NearestNeighbors(n_neighbors=2, metric=\"cosine\")\n",
    "nbrs = neigh.fit(embs_to_cluster)\n",
    "distances, indices = nbrs.kneighbors(embs_to_cluster)\n",
    "\n",
    "distances = np.sort(distances, axis=0)\n",
    "distances = distances[:,1]\n",
    "plt.plot(distances)"
   ]
  },
  {
   "cell_type": "code",
   "execution_count": 111,
   "metadata": {},
   "outputs": [
    {
     "data": {
      "image/png": "[encoded data removed]",
      "text/plain": [
       "<Figure size 1000x600 with 1 Axes>"
      ]
     },
     "metadata": {},
     "output_type": "display_data"
    }
   ],
   "source": [
    "eps_values = np.arange(0.1200, 0.2000, 0.0005)\n",
    "silhouette_scores = []\n",
    "\n",
    "# Loop over the range of eps values\n",
    "for eps in eps_values:\n",
    "    # Create DBSCAN model with current eps\n",
    "    dbscan = DBSCAN(eps=eps, metric='cosine')\n",
    "    \n",
    "    # Fit and predict clusters\n",
    "    clusters = dbscan.fit_predict(embs_to_cluster)\n",
    "    \n",
    "    # Calculate silhouette score (only if there are at least 2 clusters)\n",
    "    if len(set(clusters)) > 1:\n",
    "        score = silhouette_score(embs_to_cluster, clusters, metric='cosine')\n",
    "    else:\n",
    "        score = -1  # Assign a low score if only one cluster is found\n",
    "    \n",
    "    # Store the score\n",
    "    silhouette_scores.append(score)\n",
    "\n",
    "# Plot the Silhouette scores against eps values\n",
    "plt.figure(figsize=(10, 6))\n",
    "plt.plot(eps_values, silhouette_scores, marker='o', linestyle='-', color='b')\n",
    "plt.xlabel('Epsilon (eps)')\n",
    "plt.ylabel('Silhouette Score')\n",
    "plt.title('Silhouette Score vs. Epsilon (eps) in DBSCAN')\n",
    "plt.grid(True)\n",
    "plt.show()"
   ]
  }
 ],
 "metadata": {
  "kernelspec": {
   "display_name": "venv",
   "language": "python",
   "name": "python3"
  },
  "language_info": {
   "codemirror_mode": {
    "name": "ipython",
    "version": 3
   },
   "file_extension": ".py",
   "mimetype": "text/x-python",
   "name": "python",
   "nbconvert_exporter": "python",
   "pygments_lexer": "ipython3",
   "version": "3.10.14"
  }
 },
 "nbformat": 4,
 "nbformat_minor": 2
}
